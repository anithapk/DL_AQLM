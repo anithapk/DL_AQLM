{
 "cells": [
  {
   "cell_type": "markdown",
   "metadata": {},
   "source": [
    "LeNet-5 is the first convolutional neural network (interesting read: http://yann.lecun.com/exdb/publis/pdf/lecun-01a.pdf). It was used on large scale to automatically classify hand-written digits on bank cheques in the United States. It is a much simpler architecture compared to today's CNNs. Shown here is the architecture of LeNet, which consists of 2 convolutional layers with sub-sampling layers between them, and 2 fully connected layers. Convolutional layers use 5 by 5 convolutions with stride 1. Sub-sampling layers are 2 by 2 average pooling layers. Tanh sigmoid activations are used throughout the network.\n",
    "![Lenet-5](img/Lenet.png)\n",
    "Lets start by training this network for MNIST digit classification. A few imports to begin with:"
   ]
  },
  {
   "cell_type": "code",
   "execution_count": 1,
   "metadata": {},
   "outputs": [
    {
     "name": "stderr",
     "output_type": "stream",
     "text": [
      "/Users/anitha.krishnan/miniconda3/lib/python3.6/importlib/_bootstrap.py:219: RuntimeWarning: numpy.dtype size changed, may indicate binary incompatibility. Expected 96, got 88\n",
      "  return f(*args, **kwds)\n",
      "/Users/anitha.krishnan/miniconda3/lib/python3.6/importlib/_bootstrap.py:219: RuntimeWarning: numpy.dtype size changed, may indicate binary incompatibility. Expected 96, got 88\n",
      "  return f(*args, **kwds)\n"
     ]
    }
   ],
   "source": [
    "import gzip\n",
    "import keras.backend as K\n",
    "import keras.optimizers as optimizers\n",
    "import matplotlib.pyplot as plt\n",
    "import numpy as np\n",
    "import os\n",
    "import tensorflow as tf\n",
    "\n",
    "from keras.callbacks import ModelCheckpoint, TensorBoard\n",
    "from keras.layers import (Activation, AveragePooling2D, BatchNormalization, Conv2D, \n",
    "                          Dense, Dropout, Flatten, MaxPooling2D)\n",
    "from keras.models import Sequential\n",
    "from keras.optimizers import Adam\n",
    "from keras.preprocessing.image import ImageDataGenerator\n",
    "from keras import regularizers\n",
    "from keras.utils.np_utils import to_categorical\n",
    "from sklearn.metrics import accuracy_score, classification_report, confusion_matrix\n",
    "from sklearn.model_selection import train_test_split\n",
    "\n",
    "%matplotlib inline"
   ]
  },
  {
   "cell_type": "markdown",
   "metadata": {},
   "source": [
    "Tensorflow defaultly uses all available GPUs. If training on a multi-gpu system, pick the one to use "
   ]
  },
  {
   "cell_type": "code",
   "execution_count": 4,
   "metadata": {},
   "outputs": [],
   "source": [
    "# Function to fetch the images from a url\n",
    "# https://colab.research.google.com/drive/1CVm50PGE4vhtB5I_a_yc4h5F-itKOVL9#scrollTo=-1pY6ZqJmKJS\n",
    "from requests import get\n",
    "def download_file(url, file_name):\n",
    "    \"\"\"Get file from the given url\n",
    "    \n",
    "    :param str url: url to get data from\n",
    "    :param str file_name: fname with full path to save the downloaded file\n",
    "    \"\"\"\n",
    "    \n",
    "    with open(file_name, 'wb') as file:\n",
    "        response = get(url)\n",
    "        file.write(response.content)"
   ]
  },
  {
   "cell_type": "code",
   "execution_count": 4,
   "metadata": {},
   "outputs": [],
   "source": [
    "def read_mnist(images_path, labels_path):\n",
    "    \"\"\"Unzip the file and read its contents into a numpy array and reshape to the required shape\n",
    "    \n",
    "    :param str image_path: image fpath for the data split\n",
    "    :param str labels_path: label fpath for the data split\n",
    "    :return np.array features - 28x28 images and their corresponding labels\n",
    "    \"\"\"\n",
    "    \n",
    "    with gzip.open(labels_path, 'rb') as labelsFile:\n",
    "        labels = np.frombuffer(labelsFile.read(), dtype=np.uint8, offset=8)\n",
    "\n",
    "    with gzip.open(images_path,'rb') as imagesFile:\n",
    "        length = len(labels)\n",
    "        # Load flat 28x28 px images (784 px), and convert them to 28x28 px\n",
    "        features = np.frombuffer(imagesFile.read(), dtype=np.uint8, offset=16) \\\n",
    "                        .reshape(length, 784) \\\n",
    "                        .reshape(length, 28, 28, 1)\n",
    "        \n",
    "    return features, labels"
   ]
  },
  {
   "cell_type": "code",
   "execution_count": null,
   "metadata": {},
   "outputs": [],
   "source": [
    "def plot_learning_curve(history):\n",
    "    \"\"\"Plot loss and accuracy curve\n",
    "    \n",
    "    :param history: Keras object with loss and accuracy for train and val splits\n",
    "    \"\"\"\n",
    "    fig, ax = plt.subplots(1, 2)\n",
    "    fig.set_size_inches(12, 5)\n",
    "    ax[0].plot(history.history['acc'])\n",
    "    ax[0].plot(history.history['val_acc'])\n",
    "    ax[0].set_title('model accuracy')\n",
    "    ax[0].set_ylabel('accuracy')\n",
    "    ax[0].set_xlabel('epoch')\n",
    "    ax[0].legend(['train', 'val'], loc='upper right')\n",
    "    \n",
    "    # summarize history for loss\n",
    "    ax[1].plot(history.history['loss'])\n",
    "    ax[1].plot(history.history['val_loss'])\n",
    "    ax[1].set_title('model loss')\n",
    "    ax[1].set_ylabel('loss')\n",
    "    ax[1].set_xlabel('epoch')\n",
    "    ax[1].legend(['train', 'val'], loc='upper right')"
   ]
  },
  {
   "cell_type": "code",
   "execution_count": null,
   "metadata": {},
   "outputs": [],
   "source": [
    "def create_callbacks(model_fpath, log_dir):\n",
    "    \"\"\"Create callbacks for training\n",
    "    \n",
    "    :param str modle_fpath: fname with full path to save the model weights (.hdf5)\n",
    "    :param str log_dir: dir to save tensorboard logs\n",
    "    :return list callbacks: list with ModelCheckPoint and Tensorboard instances\n",
    "    \"\"\"\n",
    "    \n",
    "    callbacks=[ModelCheckpoint(filepath=model_fpath,\n",
    "                           mode=min,\n",
    "                           monitor='val_loss',\n",
    "                           save_best_only=True,\n",
    "                           verbose=True),\n",
    "    TensorBoard(log_dir=log_dir, \n",
    "                histogram_freq=0, \n",
    "                write_graph=True, \n",
    "                write_images=False)]\n",
    "    return callbacks"
   ]
  },
  {
   "cell_type": "code",
   "execution_count": 5,
   "metadata": {},
   "outputs": [],
   "source": [
    "mnist_dir = '../data/mnist'\n",
    "os.makedirs(mnist_dir, exist_ok=True)\n",
    "download_file('http://yann.lecun.com/exdb/mnist/train-images-idx3-ubyte.gz', \n",
    "              os.path.join(mnist_dir, 'train-images-idx3-ubyte.gz'))\n",
    "download_file('http://yann.lecun.com/exdb/mnist/train-labels-idx1-ubyte.gz', \n",
    "              os.path.join(mnist_dir, 'train-labels-idx1-ubyte.gz'))\n",
    "download_file('http://yann.lecun.com/exdb/mnist/t10k-images-idx3-ubyte.gz', \n",
    "              os.path.join(mnist_dir, 't10k-images-idx3-ubyte.gz'))\n",
    "download_file('http://yann.lecun.com/exdb/mnist/t10k-labels-idx1-ubyte.gz', \n",
    "              os.path.join(mnist_dir, 't10k-labels-idx1-ubyte.gz'))"
   ]
  },
  {
   "cell_type": "code",
   "execution_count": 5,
   "metadata": {},
   "outputs": [
    {
     "name": "stdout",
     "output_type": "stream",
     "text": [
      "60000 10000\n"
     ]
    }
   ],
   "source": [
    "imgs_train, labels_train = read_mnist('/home/paperspace/Data/anitha_data/mnist/train-images-idx3-ubyte.gz', \n",
    "                                      '/home/paperspace/Data/anitha_data/mnist/train-labels-idx1-ubyte.gz')\n",
    "imgs_test, labels_test = read_mnist('/home/paperspace/Data/anitha_data/mnist/t10k-images-idx3-ubyte.gz', \n",
    "                                    '/home/paperspace/Data/anitha_data/mnist/t10k-labels-idx1-ubyte.gz')\n",
    "print(len(imgs_train), len(imgs_test))"
   ]
  },
  {
   "cell_type": "code",
   "execution_count": 6,
   "metadata": {},
   "outputs": [
    {
     "name": "stdout",
     "output_type": "stream",
     "text": [
      "Updated Image Shape: (32, 32, 1)\n"
     ]
    }
   ],
   "source": [
    "#Lenet was trained on 32x32 images. Pad images with 0s\n",
    "imgs_train = np.pad(imgs_train, ((0,0),(2,2),(2,2),(0,0)), 'constant')\n",
    "imgs_test = np.pad(imgs_test, ((0,0),(2,2),(2,2),(0,0)), 'constant')\n",
    "    \n",
    "print(\"Updated Image Shape: {}\".format(imgs_train[0].shape))"
   ]
  },
  {
   "cell_type": "markdown",
   "metadata": {},
   "source": [
    "So we have 60k training images and 10k test images. Lets check the distribution of the labels to see if it is unbalanced (their distribution is not close to uniform, there are more samples belonging to one category than the rest). What would happen if the labels are unbalanced?"
   ]
  },
  {
   "cell_type": "code",
   "execution_count": 7,
   "metadata": {},
   "outputs": [
    {
     "name": "stdout",
     "output_type": "stream",
     "text": [
      "[5923, 6742, 5958, 6131, 5842, 5421, 5918, 6265, 5851, 5949]\n"
     ]
    }
   ],
   "source": [
    "print([len(np.where(labels_train==lbl)[0]) for lbl in np.unique(labels_train)])"
   ]
  },
  {
   "cell_type": "markdown",
   "metadata": {},
   "source": [
    "Balanced it is! lets split the train set into train and val set, then build our model. Why do you need a validation set?"
   ]
  },
  {
   "cell_type": "code",
   "execution_count": 7,
   "metadata": {},
   "outputs": [],
   "source": [
    "imgs_train, imgs_val, labels_train, labels_val = train_test_split(imgs_train,\n",
    "                                                                  labels_train,\n",
    "                                                                  test_size=0.2, \n",
    "                                                                  random_state=0)"
   ]
  },
  {
   "cell_type": "code",
   "execution_count": 8,
   "metadata": {},
   "outputs": [],
   "source": [
    "train_generator = ImageDataGenerator().flow(imgs_train, to_categorical(labels_train), batch_size=128)\n",
    "val_generator = ImageDataGenerator().flow(imgs_val, to_categorical(labels_val), batch_size=128)"
   ]
  },
  {
   "cell_type": "markdown",
   "metadata": {},
   "source": [
    "This is a slighly different version than the original version. We use 'relu' instead of 'tanh' activations. Ignore the additional layers (dropout, batchnorm) for now. We'll come back to it later"
   ]
  },
  {
   "cell_type": "code",
   "execution_count": 9,
   "metadata": {},
   "outputs": [],
   "source": [
    "def LeNet(num_classes, ip_shape, dropout=0.0, batch_norm=False, reg_const=0.0):\n",
    "    \"\"\"LeNet model\n",
    "    \n",
    "    :param int num_classes: number of unique classes\n",
    "    :param list/tuple ip_shape: shape of input to the network (width, height, depth)\n",
    "    :param float dropout: dropout probability, 0-1\n",
    "    :param bool batch_norm: flag for including a batch normalization layer\n",
    "    :param float reg_const: regularization constant\n",
    "    :return Keras.Model model: Keras model \n",
    "    \"\"\"\n",
    "    \n",
    "    model = Sequential()\n",
    "    # Lenet used valid padding...\n",
    "    model.add(Conv2D(filters=6, kernel_size=(5, 5), kernel_initializer='he_normal', input_shape=ip_shape))\n",
    "    if dropout > 0.0:\n",
    "        model.add(Dropout(rate=dropout))\n",
    "    if batch_norm:\n",
    "        model.add(BatchNormalization())\n",
    "    model.add(Activation('relu'))\n",
    "    model.add(AveragePooling2D(pool_size=(2, 2)))\n",
    "    \n",
    "    model.add(Conv2D(filters=16, kernel_size=(5, 5), kernel_initializer='he_normal'))\n",
    "    if dropout > 0.0:\n",
    "        model.add(Dropout(rate=dropout))\n",
    "    if batch_norm:\n",
    "        model.add(BatchNormalization())\n",
    "    model.add(Activation('relu'))\n",
    "    model.add(AveragePooling2D(pool_size=(2, 2)))\n",
    "    \n",
    "    model.add(Flatten())\n",
    "\n",
    "    model.add(Dense(units=120, kernel_initializer='he_normal', kernel_regularizer=regularizers.l2(reg_const))) \n",
    "    if batch_norm:\n",
    "        model.add(BatchNormalization())\n",
    "    model.add(Activation('relu'))\n",
    "    \n",
    "    model.add(Dense(units=84, kernel_initializer='he_normal', kernel_regularizer=regularizers.l2(reg_const)))\n",
    "    if batch_norm:\n",
    "        model.add(BatchNormalization())\n",
    "    model.add(Activation('relu'))\n",
    "\n",
    "    model.add(Dense(units=num_classes, kernel_initializer='he_normal', activation = 'softmax'))\n",
    "    return model"
   ]
  },
  {
   "cell_type": "code",
   "execution_count": 2,
   "metadata": {},
   "outputs": [],
   "source": [
    "gpu_num = 0\n",
    "gpu_options = tf.GPUOptions(visible_device_list=str(gpu_num))\n",
    "config = tf.ConfigProto(gpu_options=gpu_options,\n",
    "                        allow_soft_placement=True,\n",
    "                        log_device_placement=False)\n",
    "sess = tf.Session(config=config)\n",
    "K.set_session(sess)"
   ]
  },
  {
   "cell_type": "code",
   "execution_count": 10,
   "metadata": {},
   "outputs": [
    {
     "name": "stdout",
     "output_type": "stream",
     "text": [
      "_________________________________________________________________\n",
      "Layer (type)                 Output Shape              Param #   \n",
      "=================================================================\n",
      "conv2d_1 (Conv2D)            (None, 28, 28, 6)         156       \n",
      "_________________________________________________________________\n",
      "activation_1 (Activation)    (None, 28, 28, 6)         0         \n",
      "_________________________________________________________________\n",
      "average_pooling2d_1 (Average (None, 14, 14, 6)         0         \n",
      "_________________________________________________________________\n",
      "conv2d_2 (Conv2D)            (None, 10, 10, 16)        2416      \n",
      "_________________________________________________________________\n",
      "activation_2 (Activation)    (None, 10, 10, 16)        0         \n",
      "_________________________________________________________________\n",
      "average_pooling2d_2 (Average (None, 5, 5, 16)          0         \n",
      "_________________________________________________________________\n",
      "flatten_1 (Flatten)          (None, 400)               0         \n",
      "_________________________________________________________________\n",
      "dense_1 (Dense)              (None, 120)               48120     \n",
      "_________________________________________________________________\n",
      "activation_3 (Activation)    (None, 120)               0         \n",
      "_________________________________________________________________\n",
      "dense_2 (Dense)              (None, 84)                10164     \n",
      "_________________________________________________________________\n",
      "activation_4 (Activation)    (None, 84)                0         \n",
      "_________________________________________________________________\n",
      "dense_3 (Dense)              (None, 10)                850       \n",
      "=================================================================\n",
      "Total params: 61,706\n",
      "Trainable params: 61,706\n",
      "Non-trainable params: 0\n",
      "_________________________________________________________________\n",
      "None\n"
     ]
    }
   ],
   "source": [
    "# we are using Adam. Feel free to experiment with other optimizers\n",
    "with tf.device('/gpu:{}'.format(gpu_num)):\n",
    "    model = LeNet(num_classes=10, ip_shape=(32, 32, 1))\n",
    "opt = optimizers.Adam(lr=0.0001)\n",
    "model.compile(loss='categorical_crossentropy',\n",
    "              optimizer=opt,\n",
    "              metrics=['accuracy'])\n",
    "print(model.summary())"
   ]
  },
  {
   "cell_type": "code",
   "execution_count": 11,
   "metadata": {},
   "outputs": [
    {
     "name": "stderr",
     "output_type": "stream",
     "text": [
      "/usr/local/lib/python3.6/dist-packages/keras/callbacks.py:408: RuntimeWarning: ModelCheckpoint mode <built-in function min> is unknown, fallback to auto mode.\n",
      "  RuntimeWarning)\n"
     ]
    },
    {
     "name": "stdout",
     "output_type": "stream",
     "text": [
      "Epoch 1/15\n",
      "375/375 [==============================] - 8s 20ms/step - loss: 5.5071 - acc: 0.6233 - val_loss: 2.5064 - val_acc: 0.8162\n",
      "\n",
      "Epoch 00001: val_loss improved from inf to 2.50637, saving model to ../data/mnist/mnist_model.hdf5\n",
      "Epoch 2/15\n",
      "375/375 [==============================] - 4s 11ms/step - loss: 2.3663 - acc: 0.8265 - val_loss: 2.1912 - val_acc: 0.8403\n",
      "\n",
      "Epoch 00002: val_loss improved from 2.50637 to 2.19121, saving model to ../data/mnist/mnist_model.hdf5\n",
      "Epoch 3/15\n",
      "375/375 [==============================] - 4s 10ms/step - loss: 2.1240 - acc: 0.8450 - val_loss: 2.0388 - val_acc: 0.8522\n",
      "\n",
      "Epoch 00003: val_loss improved from 2.19121 to 2.03885, saving model to ../data/mnist/mnist_model.hdf5\n",
      "Epoch 4/15\n",
      "375/375 [==============================] - 4s 10ms/step - loss: 1.9982 - acc: 0.8569 - val_loss: 1.9302 - val_acc: 0.8602\n",
      "\n",
      "Epoch 00004: val_loss improved from 2.03885 to 1.93022, saving model to ../data/mnist/mnist_model.hdf5\n",
      "Epoch 5/15\n",
      "375/375 [==============================] - 4s 10ms/step - loss: 1.9271 - acc: 0.8623 - val_loss: 1.8870 - val_acc: 0.8653\n",
      "\n",
      "Epoch 00005: val_loss improved from 1.93022 to 1.88698, saving model to ../data/mnist/mnist_model.hdf5\n",
      "Epoch 6/15\n",
      "375/375 [==============================] - 4s 10ms/step - loss: 1.8666 - acc: 0.8681 - val_loss: 1.8509 - val_acc: 0.8680\n",
      "\n",
      "Epoch 00006: val_loss improved from 1.88698 to 1.85094, saving model to ../data/mnist/mnist_model.hdf5\n",
      "Epoch 7/15\n",
      "375/375 [==============================] - 4s 10ms/step - loss: 1.8311 - acc: 0.8714 - val_loss: 1.8063 - val_acc: 0.8718\n",
      "\n",
      "Epoch 00007: val_loss improved from 1.85094 to 1.80626, saving model to ../data/mnist/mnist_model.hdf5\n",
      "Epoch 8/15\n",
      "375/375 [==============================] - 4s 10ms/step - loss: 1.7946 - acc: 0.8743 - val_loss: 1.7834 - val_acc: 0.8735\n",
      "\n",
      "Epoch 00008: val_loss improved from 1.80626 to 1.78337, saving model to ../data/mnist/mnist_model.hdf5\n",
      "Epoch 9/15\n",
      "375/375 [==============================] - 4s 10ms/step - loss: 1.7646 - acc: 0.8775 - val_loss: 1.7719 - val_acc: 0.8730\n",
      "\n",
      "Epoch 00009: val_loss improved from 1.78337 to 1.77194, saving model to ../data/mnist/mnist_model.hdf5\n",
      "Epoch 10/15\n",
      "375/375 [==============================] - 4s 10ms/step - loss: 1.7461 - acc: 0.8788 - val_loss: 1.7636 - val_acc: 0.8752\n",
      "\n",
      "Epoch 00010: val_loss improved from 1.77194 to 1.76360, saving model to ../data/mnist/mnist_model.hdf5\n",
      "Epoch 11/15\n",
      "375/375 [==============================] - 4s 10ms/step - loss: 1.7206 - acc: 0.8809 - val_loss: 1.7365 - val_acc: 0.8772\n",
      "\n",
      "Epoch 00011: val_loss improved from 1.76360 to 1.73651, saving model to ../data/mnist/mnist_model.hdf5\n",
      "Epoch 12/15\n",
      "375/375 [==============================] - 4s 10ms/step - loss: 1.7041 - acc: 0.8826 - val_loss: 1.7302 - val_acc: 0.8777\n",
      "\n",
      "Epoch 00012: val_loss improved from 1.73651 to 1.73017, saving model to ../data/mnist/mnist_model.hdf5\n",
      "Epoch 13/15\n",
      "375/375 [==============================] - 4s 10ms/step - loss: 1.6909 - acc: 0.8838 - val_loss: 1.7151 - val_acc: 0.8779\n",
      "\n",
      "Epoch 00013: val_loss improved from 1.73017 to 1.71510, saving model to ../data/mnist/mnist_model.hdf5\n",
      "Epoch 14/15\n",
      "375/375 [==============================] - 4s 10ms/step - loss: 1.6767 - acc: 0.8857 - val_loss: 1.7068 - val_acc: 0.8797\n",
      "\n",
      "Epoch 00014: val_loss improved from 1.71510 to 1.70683, saving model to ../data/mnist/mnist_model.hdf5\n",
      "Epoch 15/15\n",
      "375/375 [==============================] - 4s 10ms/step - loss: 1.6669 - acc: 0.8868 - val_loss: 1.7045 - val_acc: 0.8805\n",
      "\n",
      "Epoch 00015: val_loss improved from 1.70683 to 1.70453, saving model to ../data/mnist/mnist_model.hdf5\n"
     ]
    }
   ],
   "source": [
    "callbacks = create_callbacks(model_fpath='/home/paperspace/Data/anitha_data/mnist/mnist_model.hdf5',\n",
    "                             log_dir='/home/paperspace/Data/anitha_data/mnist/')\n",
    "with sess.as_default():\n",
    "    history = model.fit_generator(train_generator,\n",
    "                                  validation_data=val_generator,\n",
    "                                  epochs=15, shuffle=True,\n",
    "                                  callbacks=callbacks)"
   ]
  },
  {
   "cell_type": "code",
   "execution_count": 12,
   "metadata": {},
   "outputs": [
    {
     "name": "stdout",
     "output_type": "stream",
     "text": [
      "10000/10000 [==============================] - 1s 88us/step\n",
      "Test loss: 1.749098631515581\n",
      "Test accuracy: 0.8773\n"
     ]
    }
   ],
   "source": [
    "score = model.evaluate(imgs_test, to_categorical(labels_test))\n",
    "print('Test loss:', score[0])\n",
    "print('Test accuracy:', score[1])"
   ]
  },
  {
   "cell_type": "code",
   "execution_count": 13,
   "metadata": {},
   "outputs": [
    {
     "data": {
      "image/png": "[encoded data removed]",
      "text/plain": [
       "<Figure size 864x360 with 2 Axes>"
      ]
     },
     "metadata": {
      "needs_background": "light"
     },
     "output_type": "display_data"
    }
   ],
   "source": [
    "plot_learning_curve(history)"
   ]
  },
  {
   "cell_type": "markdown",
   "metadata": {},
   "source": [
    "Commonly reported performance metrics: Accuracy, Precision, Recall (Sensitivity, Specificity), F1-score, Confusion mattrix (Recommend the set of lectures and material here: https://developers.google.com/machine-learning/crash-course/classification/precision-and-recall)"
   ]
  },
  {
   "cell_type": "code",
   "execution_count": 14,
   "metadata": {},
   "outputs": [
    {
     "name": "stdout",
     "output_type": "stream",
     "text": [
      "0.8773\n",
      "[[ 972    1    2    0    0    0    0    1    2    2]\n",
      " [   2 1123    1    2    0    0    2    2    3    0]\n",
      " [   6    3  994   11    0    0    2   11    5    0]\n",
      " [   0    0    2 1000    0    4    0    0    2    2]\n",
      " [  25    1   25    7    0    1   52  388   47  436]\n",
      " [   3    0    0   16    0  859    5    2    5    2]\n",
      " [   6    3    4    1    0    3  936    1    4    0]\n",
      " [   1    1   13   12    0    0    0  995    2    4]\n",
      " [   6    0    1   11    0    8    3    2  935    8]\n",
      " [   1    0    1   17    0    5    2   14   10  959]]\n",
      "              precision    recall  f1-score   support\n",
      "\n",
      "           0       0.95      0.99      0.97       980\n",
      "           1       0.99      0.99      0.99      1135\n",
      "           2       0.95      0.96      0.96      1032\n",
      "           3       0.93      0.99      0.96      1010\n",
      "           4       0.00      0.00      0.00       982\n",
      "           5       0.98      0.96      0.97       892\n",
      "           6       0.93      0.98      0.96       958\n",
      "           7       0.70      0.97      0.81      1028\n",
      "           8       0.92      0.96      0.94       974\n",
      "           9       0.68      0.95      0.79      1009\n",
      "\n",
      "   micro avg       0.88      0.88      0.88     10000\n",
      "   macro avg       0.80      0.88      0.83     10000\n",
      "weighted avg       0.80      0.88      0.84     10000\n",
      "\n"
     ]
    },
    {
     "name": "stderr",
     "output_type": "stream",
     "text": [
      "/usr/local/lib/python3.6/dist-packages/sklearn/metrics/classification.py:1143: UndefinedMetricWarning: Precision and F-score are ill-defined and being set to 0.0 in labels with no predicted samples.\n",
      "  'precision', 'predicted', average, warn_for)\n"
     ]
    }
   ],
   "source": [
    "y_pred_prob = model.predict(imgs_test)\n",
    "y_pred = np.argmax(y_pred_prob, axis = 1)\n",
    "print(accuracy_score(labels_test.astype('int'), y_pred))\n",
    "print(confusion_matrix(labels_test.astype('int'), y_pred))\n",
    "print(classification_report(labels_test.astype('int'), y_pred))"
   ]
  },
  {
   "cell_type": "code",
   "execution_count": null,
   "metadata": {},
   "outputs": [],
   "source": []
  },
  {
   "cell_type": "code",
   "execution_count": null,
   "metadata": {},
   "outputs": [],
   "source": []
  },
  {
   "cell_type": "markdown",
   "metadata": {},
   "source": [
    "Lets use the same network for a different application and see how it performs. We'll be using the WBC dataset from Kaggle (https://www.kaggle.com/paultimothymooney/blood-cells). The original dataset is highly unbalanced with 206 neutrophils, 88 eosinophils, 33 lymphocytes, 20 monocyte after some clean up and removing one category which had only 3 samples. Fortunately, we are provided with another set with equal representation from all classes obtained by augmenting the original images. (Image augmentation is not ideal, but should be ok for our example here). Download the dataset2-master folder and place it in '../data/wbc'"
   ]
  },
  {
   "cell_type": "code",
   "execution_count": null,
   "metadata": {},
   "outputs": [],
   "source": [
    "from keras import applications\n",
    "from keras.models import Model"
   ]
  },
  {
   "cell_type": "code",
   "execution_count": 4,
   "metadata": {},
   "outputs": [
    {
     "name": "stdout",
     "output_type": "stream",
     "text": [
      "Found 9957 images belonging to 4 classes.\n",
      "Found 2487 images belonging to 4 classes.\n"
     ]
    }
   ],
   "source": [
    "img_dir = '/home/paperspace/Data/anitha_data/wbc'\n",
    "target_shape = [120, 160]\n",
    "\n",
    "def get_train_val_gen(target_shape, batch_size):\n",
    "    train_datagen = ImageDataGenerator(\n",
    "        rescale= 1./255, \n",
    "        vertical_flip=True,\n",
    "        horizontal_flip=True)\n",
    "    train_generator = train_datagen.flow_from_directory(\n",
    "        os.path.join(img_dir, 'TRAIN'),\n",
    "        target_size=(target_shape[0], target_shape[1]),\n",
    "        batch_size=batch_size,\n",
    "        class_mode='categorical')\n",
    "\n",
    "    val_datagen = ImageDataGenerator(rescale= 1./255)\n",
    "    val_generator = val_datagen.flow_from_directory(\n",
    "        os.path.join(img_dir, 'TEST'),\n",
    "        target_size=(target_shape[0], target_shape[1]),\n",
    "        batch_size=batch_size,\n",
    "        class_mode='categorical')\n",
    "    return train_generator, val_generator\n",
    "\n",
    "train_generator, val_generator = get_train_val_gen(target_shape, 128)"
   ]
  },
  {
   "cell_type": "code",
   "execution_count": 15,
   "metadata": {},
   "outputs": [
    {
     "data": {
      "text/plain": [
       "<matplotlib.image.AxesImage at 0x7effb406f550>"
      ]
     },
     "execution_count": 15,
     "metadata": {},
     "output_type": "execute_result"
    },
    {
     "data": {
      "image/png": "[encoded data removed]",
      "text/plain": [
       "<Figure size 432x288 with 1 Axes>"
      ]
     },
     "metadata": {
      "needs_background": "light"
     },
     "output_type": "display_data"
    }
   ],
   "source": [
    "tr_imgs, tr_y = train_generator.next()\n",
    "plt.imshow(tr_imgs[0])"
   ]
  },
  {
   "cell_type": "code",
   "execution_count": 20,
   "metadata": {},
   "outputs": [
    {
     "name": "stdout",
     "output_type": "stream",
     "text": [
      "_________________________________________________________________\n",
      "Layer (type)                 Output Shape              Param #   \n",
      "=================================================================\n",
      "conv2d_5 (Conv2D)            (None, 116, 156, 6)       456       \n",
      "_________________________________________________________________\n",
      "activation_9 (Activation)    (None, 116, 156, 6)       0         \n",
      "_________________________________________________________________\n",
      "average_pooling2d_5 (Average (None, 58, 78, 6)         0         \n",
      "_________________________________________________________________\n",
      "conv2d_6 (Conv2D)            (None, 54, 74, 16)        2416      \n",
      "_________________________________________________________________\n",
      "activation_10 (Activation)   (None, 54, 74, 16)        0         \n",
      "_________________________________________________________________\n",
      "average_pooling2d_6 (Average (None, 27, 37, 16)        0         \n",
      "_________________________________________________________________\n",
      "flatten_3 (Flatten)          (None, 15984)             0         \n",
      "_________________________________________________________________\n",
      "dense_7 (Dense)              (None, 120)               1918200   \n",
      "_________________________________________________________________\n",
      "activation_11 (Activation)   (None, 120)               0         \n",
      "_________________________________________________________________\n",
      "dense_8 (Dense)              (None, 84)                10164     \n",
      "_________________________________________________________________\n",
      "activation_12 (Activation)   (None, 84)                0         \n",
      "_________________________________________________________________\n",
      "dense_9 (Dense)              (None, 4)                 340       \n",
      "=================================================================\n",
      "Total params: 1,931,576\n",
      "Trainable params: 1,931,576\n",
      "Non-trainable params: 0\n",
      "_________________________________________________________________\n",
      "None\n"
     ]
    }
   ],
   "source": [
    "opt = optimizers.Adam(lr=0.0001)\n",
    "with tf.device('/gpu:{}'.format(gpu_num)):\n",
    "    model = LeNet(num_classes=4, ip_shape=(120, 160, 3))\n",
    "model.compile(loss='categorical_crossentropy',\n",
    "              optimizer=opt,\n",
    "              metrics=['accuracy'])\n",
    "print(model.summary())"
   ]
  },
  {
   "cell_type": "code",
   "execution_count": 21,
   "metadata": {
    "scrolled": false
   },
   "outputs": [
    {
     "name": "stdout",
     "output_type": "stream",
     "text": [
      "Epoch 1/15\n",
      "78/78 [==============================] - 59s 761ms/step - loss: 1.3882 - acc: 0.2629 - val_loss: 1.3765 - val_acc: 0.3550\n",
      "\n",
      "Epoch 00001: val_loss improved from inf to 1.37651, saving model to ../data/wbc/wbc_class_pred_model.hdf5\n",
      "Epoch 2/15\n",
      "78/78 [==============================] - 50s 643ms/step - loss: 1.3301 - acc: 0.3716 - val_loss: 1.2556 - val_acc: 0.4041\n",
      "\n",
      "Epoch 00002: val_loss improved from 1.37651 to 1.25564, saving model to ../data/wbc/wbc_class_pred_model.hdf5\n",
      "Epoch 3/15\n",
      "78/78 [==============================] - 50s 647ms/step - loss: 1.2213 - acc: 0.4327 - val_loss: 1.2061 - val_acc: 0.3949\n",
      "\n",
      "Epoch 00003: val_loss improved from 1.25564 to 1.20613, saving model to ../data/wbc/wbc_class_pred_model.hdf5\n",
      "Epoch 4/15\n",
      "78/78 [==============================] - 50s 645ms/step - loss: 1.1522 - acc: 0.4822 - val_loss: 1.1686 - val_acc: 0.4503\n",
      "\n",
      "Epoch 00004: val_loss improved from 1.20613 to 1.16863, saving model to ../data/wbc/wbc_class_pred_model.hdf5\n",
      "Epoch 5/15\n",
      "78/78 [==============================] - 51s 660ms/step - loss: 1.0884 - acc: 0.5157 - val_loss: 1.1471 - val_acc: 0.4805\n",
      "\n",
      "Epoch 00005: val_loss improved from 1.16863 to 1.14706, saving model to ../data/wbc/wbc_class_pred_model.hdf5\n",
      "Epoch 6/15\n",
      "78/78 [==============================] - 51s 654ms/step - loss: 1.0301 - acc: 0.5527 - val_loss: 1.0986 - val_acc: 0.4978\n",
      "\n",
      "Epoch 00006: val_loss improved from 1.14706 to 1.09857, saving model to ../data/wbc/wbc_class_pred_model.hdf5\n",
      "Epoch 7/15\n",
      "78/78 [==============================] - 51s 655ms/step - loss: 0.9833 - acc: 0.5725 - val_loss: 1.1403 - val_acc: 0.4588\n",
      "\n",
      "Epoch 00007: val_loss did not improve\n",
      "Epoch 8/15\n",
      "78/78 [==============================] - 51s 656ms/step - loss: 0.9361 - acc: 0.5975 - val_loss: 1.0974 - val_acc: 0.4950\n",
      "\n",
      "Epoch 00008: val_loss improved from 1.09857 to 1.09740, saving model to ../data/wbc/wbc_class_pred_model.hdf5\n",
      "Epoch 9/15\n",
      "78/78 [==============================] - 52s 661ms/step - loss: 0.9090 - acc: 0.6069 - val_loss: 1.0673 - val_acc: 0.5062\n",
      "\n",
      "Epoch 00009: val_loss improved from 1.09740 to 1.06733, saving model to ../data/wbc/wbc_class_pred_model.hdf5\n",
      "Epoch 10/15\n",
      "78/78 [==============================] - 52s 670ms/step - loss: 0.8758 - acc: 0.6205 - val_loss: 1.1743 - val_acc: 0.4355\n",
      "\n",
      "Epoch 00010: val_loss did not improve\n",
      "Epoch 11/15\n",
      "78/78 [==============================] - 51s 659ms/step - loss: 0.8533 - acc: 0.6324 - val_loss: 1.0692 - val_acc: 0.4825\n",
      "\n",
      "Epoch 00011: val_loss did not improve\n",
      "Epoch 12/15\n",
      "78/78 [==============================] - 52s 662ms/step - loss: 0.8277 - acc: 0.6428 - val_loss: 1.0440 - val_acc: 0.4897\n",
      "\n",
      "Epoch 00012: val_loss improved from 1.06733 to 1.04397, saving model to ../data/wbc/wbc_class_pred_model.hdf5\n",
      "Epoch 13/15\n",
      "78/78 [==============================] - 51s 654ms/step - loss: 0.8090 - acc: 0.6518 - val_loss: 1.0329 - val_acc: 0.5159\n",
      "\n",
      "Epoch 00013: val_loss improved from 1.04397 to 1.03292, saving model to ../data/wbc/wbc_class_pred_model.hdf5\n",
      "Epoch 14/15\n",
      "78/78 [==============================] - 51s 652ms/step - loss: 0.7908 - acc: 0.6578 - val_loss: 1.0061 - val_acc: 0.5239\n",
      "\n",
      "Epoch 00014: val_loss improved from 1.03292 to 1.00615, saving model to ../data/wbc/wbc_class_pred_model.hdf5\n",
      "Epoch 15/15\n",
      "78/78 [==============================] - 51s 650ms/step - loss: 0.7680 - acc: 0.6700 - val_loss: 0.9640 - val_acc: 0.5525\n",
      "\n",
      "Epoch 00015: val_loss improved from 1.00615 to 0.96398, saving model to ../data/wbc/wbc_class_pred_model.hdf5\n"
     ]
    }
   ],
   "source": [
    "callbacks = create_callbacks(model_fpath='/home/paperspace/Data/anitha_data/wbc/wbc_class_pred_model.hdf5',\n",
    "                             log_dir='/home/paperspace/Data/anitha_data/wbc')\n",
    "with sess.as_default():\n",
    "    history = model.fit_generator(train_generator,\n",
    "                                  validation_data=val_generator,\n",
    "                                  epochs=15, shuffle=True,\n",
    "                                  callbacks=callbacks)"
   ]
  },
  {
   "cell_type": "markdown",
   "metadata": {},
   "source": [
    "In a CNN, convolution layers are compute intensive i.e. affect the training / inference time, while the fully connected layers are parameters dense i.e. affect the model size drastically. Check out VGG model here (http://cs231n.github.io/convolutional-networks/) and which layer contributes the most number of parameters? There is so much redundancy in these layers that you could throw out 80-90% of it selectively after training. Why this preamble.. Just with base Lenet u should have got an accuracy of ~75% on train set and ~0.65 on the val set. Change the network architecture to increase val accuracy to >0.9. Try:\n",
    "1) adding more filters\n",
    "2) adding more layers / removing layers\n",
    "3) increasing the number of neurons in the fully connected layers"
   ]
  },
  {
   "cell_type": "code",
   "execution_count": 11,
   "metadata": {},
   "outputs": [
    {
     "name": "stdout",
     "output_type": "stream",
     "text": [
      "Found 9957 images belonging to 4 classes.\n",
      "Found 2487 images belonging to 4 classes.\n",
      "Downloading data from https://github.com/fchollet/deep-learning-models/releases/download/v0.1/vgg16_weights_tf_dim_ordering_tf_kernels_notop.h5\n",
      "58892288/58889256 [==============================] - 5s 0us/step\n"
     ]
    },
    {
     "name": "stderr",
     "output_type": "stream",
     "text": [
      "/usr/local/lib/python3.6/dist-packages/ipykernel_launcher.py:18: UserWarning: Update your `Model` call to the Keras 2 API: `Model(inputs=Tensor(\"in..., outputs=Tensor(\"de...)`\n"
     ]
    }
   ],
   "source": [
    "train_generator, val_generator = get_train_val_gen((240, 240, 3), 32)\n",
    "\n",
    "# model = applications.ResNet50(weights='imagenet', include_top=False, input_shape = (240, 240, 3))\n",
    "model = applications.vgg16.VGG16(weights='imagenet', include_top=False, input_shape = (240, 240, 3))\n",
    "#Adding custom Layers \n",
    "x = model.output\n",
    "x = Flatten()(x)\n",
    "x = Dense(64, activation=\"relu\")(x)\n",
    "x = Dropout(0.5)(x)\n",
    "x = Dense(16, activation=\"relu\")(x)\n",
    "predictions = Dense(4, activation=\"softmax\")(x)\n",
    "\n",
    "# creating the final model \n",
    "with tf.device('/gpu:{}'.format(gpu_num)):\n",
    "    model_final = Model(input = model.input, output = predictions)\n",
    "\n",
    "\n",
    "# compile the model \n",
    "model_final.compile(loss='categorical_crossentropy', \n",
    "                    optimizer=optimizers.SGD(lr=0.0001, momentum=0.9), \n",
    "                    metrics=[\"accuracy\"])\n"
   ]
  },
  {
   "cell_type": "code",
   "execution_count": 12,
   "metadata": {
    "scrolled": false
   },
   "outputs": [
    {
     "name": "stdout",
     "output_type": "stream",
     "text": [
      "_________________________________________________________________\n",
      "Layer (type)                 Output Shape              Param #   \n",
      "=================================================================\n",
      "input_2 (InputLayer)         (None, 240, 240, 3)       0         \n",
      "_________________________________________________________________\n",
      "block1_conv1 (Conv2D)        (None, 240, 240, 64)      1792      \n",
      "_________________________________________________________________\n",
      "block1_conv2 (Conv2D)        (None, 240, 240, 64)      36928     \n",
      "_________________________________________________________________\n",
      "block1_pool (MaxPooling2D)   (None, 120, 120, 64)      0         \n",
      "_________________________________________________________________\n",
      "block2_conv1 (Conv2D)        (None, 120, 120, 128)     73856     \n",
      "_________________________________________________________________\n",
      "block2_conv2 (Conv2D)        (None, 120, 120, 128)     147584    \n",
      "_________________________________________________________________\n",
      "block2_pool (MaxPooling2D)   (None, 60, 60, 128)       0         \n",
      "_________________________________________________________________\n",
      "block3_conv1 (Conv2D)        (None, 60, 60, 256)       295168    \n",
      "_________________________________________________________________\n",
      "block3_conv2 (Conv2D)        (None, 60, 60, 256)       590080    \n",
      "_________________________________________________________________\n",
      "block3_conv3 (Conv2D)        (None, 60, 60, 256)       590080    \n",
      "_________________________________________________________________\n",
      "block3_pool (MaxPooling2D)   (None, 30, 30, 256)       0         \n",
      "_________________________________________________________________\n",
      "block4_conv1 (Conv2D)        (None, 30, 30, 512)       1180160   \n",
      "_________________________________________________________________\n",
      "block4_conv2 (Conv2D)        (None, 30, 30, 512)       2359808   \n",
      "_________________________________________________________________\n",
      "block4_conv3 (Conv2D)        (None, 30, 30, 512)       2359808   \n",
      "_________________________________________________________________\n",
      "block4_pool (MaxPooling2D)   (None, 15, 15, 512)       0         \n",
      "_________________________________________________________________\n",
      "block5_conv1 (Conv2D)        (None, 15, 15, 512)       2359808   \n",
      "_________________________________________________________________\n",
      "block5_conv2 (Conv2D)        (None, 15, 15, 512)       2359808   \n",
      "_________________________________________________________________\n",
      "block5_conv3 (Conv2D)        (None, 15, 15, 512)       2359808   \n",
      "_________________________________________________________________\n",
      "block5_pool (MaxPooling2D)   (None, 7, 7, 512)         0         \n",
      "_________________________________________________________________\n",
      "flatten_2 (Flatten)          (None, 25088)             0         \n",
      "_________________________________________________________________\n",
      "dense_4 (Dense)              (None, 64)                1605696   \n",
      "_________________________________________________________________\n",
      "dropout_2 (Dropout)          (None, 64)                0         \n",
      "_________________________________________________________________\n",
      "dense_5 (Dense)              (None, 16)                1040      \n",
      "_________________________________________________________________\n",
      "dense_6 (Dense)              (None, 4)                 68        \n",
      "=================================================================\n",
      "Total params: 16,321,492\n",
      "Trainable params: 16,321,492\n",
      "Non-trainable params: 0\n",
      "_________________________________________________________________\n"
     ]
    }
   ],
   "source": [
    "model_final.summary()"
   ]
  },
  {
   "cell_type": "code",
   "execution_count": 13,
   "metadata": {},
   "outputs": [
    {
     "name": "stderr",
     "output_type": "stream",
     "text": [
      "/usr/local/lib/python3.6/dist-packages/keras/callbacks.py:408: RuntimeWarning: ModelCheckpoint mode <built-in function min> is unknown, fallback to auto mode.\n",
      "  RuntimeWarning)\n"
     ]
    },
    {
     "name": "stdout",
     "output_type": "stream",
     "text": [
      "Epoch 1/15\n",
      "312/312 [==============================] - 101s 323ms/step - loss: 1.3872 - acc: 0.2733 - val_loss: 1.3729 - val_acc: 0.2815\n",
      "\n",
      "Epoch 00001: val_loss improved from inf to 1.37286, saving model to ../data/wbc/wbc_vgg_model.hdf5\n",
      "Epoch 2/15\n",
      "312/312 [==============================] - 100s 321ms/step - loss: 1.3480 - acc: 0.3176 - val_loss: 1.2316 - val_acc: 0.3916\n",
      "\n",
      "Epoch 00002: val_loss improved from 1.37286 to 1.23163, saving model to ../data/wbc/wbc_vgg_model.hdf5\n",
      "Epoch 3/15\n",
      "312/312 [==============================] - 101s 324ms/step - loss: 1.1243 - acc: 0.4571 - val_loss: 0.9908 - val_acc: 0.4994\n",
      "\n",
      "Epoch 00003: val_loss improved from 1.23163 to 0.99084, saving model to ../data/wbc/wbc_vgg_model.hdf5\n",
      "Epoch 4/15\n",
      "312/312 [==============================] - 100s 321ms/step - loss: 0.9387 - acc: 0.5608 - val_loss: 0.8752 - val_acc: 0.5565\n",
      "\n",
      "Epoch 00004: val_loss improved from 0.99084 to 0.87516, saving model to ../data/wbc/wbc_vgg_model.hdf5\n",
      "Epoch 5/15\n",
      "312/312 [==============================] - 100s 321ms/step - loss: 0.8096 - acc: 0.6588 - val_loss: 0.7924 - val_acc: 0.6771\n",
      "\n",
      "Epoch 00005: val_loss improved from 0.87516 to 0.79240, saving model to ../data/wbc/wbc_vgg_model.hdf5\n",
      "Epoch 6/15\n",
      "312/312 [==============================] - 99s 319ms/step - loss: 0.7022 - acc: 0.7550 - val_loss: 0.7775 - val_acc: 0.7016\n",
      "\n",
      "Epoch 00006: val_loss improved from 0.79240 to 0.77748, saving model to ../data/wbc/wbc_vgg_model.hdf5\n",
      "Epoch 7/15\n",
      "312/312 [==============================] - 99s 318ms/step - loss: 0.6033 - acc: 0.8276 - val_loss: 0.7582 - val_acc: 0.6819\n",
      "\n",
      "Epoch 00007: val_loss improved from 0.77748 to 0.75824, saving model to ../data/wbc/wbc_vgg_model.hdf5\n",
      "Epoch 8/15\n",
      "312/312 [==============================] - 100s 320ms/step - loss: 0.5392 - acc: 0.8672 - val_loss: 0.6750 - val_acc: 0.7563\n",
      "\n",
      "Epoch 00008: val_loss improved from 0.75824 to 0.67497, saving model to ../data/wbc/wbc_vgg_model.hdf5\n",
      "Epoch 9/15\n",
      "312/312 [==============================] - 101s 323ms/step - loss: 0.4925 - acc: 0.8927 - val_loss: 0.9264 - val_acc: 0.7246\n",
      "\n",
      "Epoch 00009: val_loss did not improve\n",
      "Epoch 10/15\n",
      "312/312 [==============================] - 99s 316ms/step - loss: 0.4224 - acc: 0.9237 - val_loss: 0.5600 - val_acc: 0.8516\n",
      "\n",
      "Epoch 00010: val_loss improved from 0.67497 to 0.56005, saving model to ../data/wbc/wbc_vgg_model.hdf5\n",
      "Epoch 11/15\n",
      "312/312 [==============================] - 100s 322ms/step - loss: 0.4097 - acc: 0.9254 - val_loss: 0.7151 - val_acc: 0.7793\n",
      "\n",
      "Epoch 00011: val_loss did not improve\n",
      "Epoch 12/15\n",
      "312/312 [==============================] - 100s 321ms/step - loss: 0.3345 - acc: 0.9439 - val_loss: 0.9490 - val_acc: 0.7712\n",
      "\n",
      "Epoch 00012: val_loss did not improve\n",
      "Epoch 13/15\n",
      "312/312 [==============================] - 99s 317ms/step - loss: 0.3058 - acc: 0.9350 - val_loss: 0.6593 - val_acc: 0.8122\n",
      "\n",
      "Epoch 00013: val_loss did not improve\n",
      "Epoch 14/15\n",
      "312/312 [==============================] - 99s 318ms/step - loss: 0.2303 - acc: 0.9410 - val_loss: 1.3430 - val_acc: 0.7583\n",
      "\n",
      "Epoch 00014: val_loss did not improve\n",
      "Epoch 15/15\n",
      "312/312 [==============================] - 99s 319ms/step - loss: 0.1711 - acc: 0.9542 - val_loss: 0.7890 - val_acc: 0.8347\n",
      "\n",
      "Epoch 00015: val_loss did not improve\n"
     ]
    }
   ],
   "source": [
    "callbacks = create_callbacks(model_fpath='/home/paperspace/Data/anitha_data/wbc/wbc_vgg_model.hdf5',\n",
    "                             log_dir='/home/paperspace/Data/anitha_data/wbc')\n",
    "\n",
    "with sess.as_default():\n",
    "    history = model_final.fit_generator(train_generator,\n",
    "                                  validation_data=val_generator,\n",
    "                                  epochs=15, shuffle=True,\n",
    "                                  callbacks=callbacks)"
   ]
  },
  {
   "cell_type": "code",
   "execution_count": 7,
   "metadata": {},
   "outputs": [],
   "source": [
    "model_final.load_weights('/home/paperspace/Data/anitha_data/wbc/wbc_class_pred_model.hdf5')"
   ]
  },
  {
   "cell_type": "code",
   "execution_count": 8,
   "metadata": {},
   "outputs": [
    {
     "name": "stdout",
     "output_type": "stream",
     "text": [
      "Found 71 images belonging to 4 classes.\n"
     ]
    },
    {
     "data": {
      "text/plain": [
       "[0.2819991107557861, 0.8873239445014739]"
      ]
     },
     "execution_count": 8,
     "metadata": {},
     "output_type": "execute_result"
    }
   ],
   "source": [
    "test_datagen = ImageDataGenerator(rescale= 1./255)\n",
    "test_generator = test_datagen.flow_from_directory(\n",
    "        os.path.join(img_dir, 'TEST_SIMPLE'),\n",
    "        target_size=(240, 240),\n",
    "        batch_size=32,\n",
    "        class_mode='categorical')\n",
    "model_final.evaluate_generator(test_generator)"
   ]
  },
  {
   "cell_type": "code",
   "execution_count": null,
   "metadata": {},
   "outputs": [],
   "source": []
  },
  {
   "cell_type": "code",
   "execution_count": 10,
   "metadata": {
    "scrolled": false
   },
   "outputs": [],
   "source": [
    "\n"
   ]
  }
 ],
 "metadata": {
  "kernelspec": {
   "display_name": "Python 3",
   "language": "python",
   "name": "python3"
  },
  "language_info": {
   "codemirror_mode": {
    "name": "ipython",
    "version": 3
   },
   "file_extension": ".py",
   "mimetype": "text/x-python",
   "name": "python",
   "nbconvert_exporter": "python",
   "pygments_lexer": "ipython3",
   "version": "3.6.8"
  }
 },
 "nbformat": 4,
 "nbformat_minor": 2
}
